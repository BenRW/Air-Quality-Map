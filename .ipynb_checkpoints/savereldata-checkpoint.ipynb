{
 "cells": [
  {
   "cell_type": "code",
   "execution_count": 2,
   "id": "29d476ed",
   "metadata": {},
   "outputs": [
    {
     "name": "stdout",
     "output_type": "stream",
     "text": [
      "2934\n"
     ]
    }
   ],
   "source": [
    "import pandas as pd\n",
    "import numpy as np\n",
    "\n",
    "rural_data = pd.read_csv(\"rural_data.csv\", delimiter = \";\", low_memory=False)\n",
    "urban_data = pd.read_csv(\"urban_data.csv\", delimiter = \";\", low_memory=False)\n",
    "\n",
    "# drop irrelevant columns and nans\n",
    "urban_data = urban_data.drop(labels=['organisation', 'type', 'site_eu', 'type_alt', \n",
    "                             'type_airbase', 'municipality.name', 'province.name', \n",
    "                             'air.quality.area', 'bc', 'co', 'nh3', 'ox', 'pm25', 'so2', \n",
    "                             'benzeen', 'h2s', 'meta_paraxyleen', 'tolueen', 'ufp', 'ff', \n",
    "                             'fx', 't10n', 'td', 'sq', 'dr', 'vv', 'no', 'nox', 'o3', 'ws',\n",
    "                             't', 'q', 'hourly_rain', 'p', 'n', 'rh', 'wd', 'pm10'], axis=1)\n",
    "urban_data = urban_data.dropna(axis=0)\n",
    "\n",
    "rural_data = rural_data.drop(labels=['organisation', 'type', 'site_eu', 'type_alt', \n",
    "                             'type_airbase', 'municipality.name', 'province.name', \n",
    "                             'air.quality.area', 'bc', 'co', 'nh3', 'ox', 'pm25', 'so2', \n",
    "                             'benzeen', 'h2s', 'meta_paraxyleen', 'tolueen', 'ufp', 'ff', \n",
    "                             'fx', 't10n', 'td', 'sq', 'dr', 'vv', 'no', 'nox', 'o3', 'ws',\n",
    "                             't', 'q', 'hourly_rain', 'p', 'n', 'rh', 'wd', 'pm10'], axis=1)\n",
    "\n",
    "sites = rural_data.site.unique()\n",
    "\n",
    "rural_data = rural_data[(rural_data[\"site\"]!=\"722\") & (rural_data[\"site\"]!=\"934\") \n",
    "                        & (rural_data[\"site\"]!=\"NL49556\") \n",
    "                        & (rural_data[\"site\"]!=\"NL01437\")] # drop sites which have no or sparse no2 data\n",
    "\n",
    "# print(rural_data[rural_data[\"date\"]==\"2018-05-05 14:00:00\"])\n",
    "# print(rural_data.site.unique())\n",
    "# rural_data = rural_data.dropna(axis=0)\n",
    "# print(rural_data.site.unique())\n",
    "\n",
    "# print(rural_data[rural_data[\"date\"]==\"2018-05-05 14:00:00\"])\n",
    "# print(rural_data[rural_data[\"site\"]==\"NL49556\"].no2)\n",
    "# nan_inds = pd.isnull(rural_data).any(1).to_numpy().nonzero()[0]\n",
    "# nan_inds = rural_data.loc[pd.isna(rural_data[\"no2\"]), :].index\n",
    "nan_inds = pd.isnull(rural_data).any(1).to_numpy()\n",
    "nan_dates = rural_data.date[nan_inds].unique()\n",
    "# for nandate in nan_dates:\n",
    "#     print(nandate)\n",
    "print(len(nan_dates))\n",
    "\n",
    "rural_data = rural_data[~rural_data.date.isin(nan_dates)]\n",
    "# print(len(nan_dates))\n",
    "# rural_data = rural_data[rural_data.date!=nan]\n",
    "\n",
    "# ensure same start and end dates for all stations\n",
    "# urban_data = urban_data[(urban_data[\"date\"]>=\"2018-01-04 14:00:00\") & (urban_data[\"date\"]<=\"2018-12-06 13:00:00\")]\n",
    "# rural_data = rural_data[(rural_data[\"date\"]>=\"2018-01-04 14:00:00\") & (rural_data[\"date\"]<=\"2018-12-06 13:00:00\")]\n",
    "\n",
    "# Save\n",
    "urban_data.to_csv(\"Urban_NaNdeleted.csv\", sep=',')\n",
    "rural_data.to_csv(\"Rural_NaNdeleted.csv\", sep=',')"
   ]
  },
  {
   "cell_type": "code",
   "execution_count": null,
   "id": "8a2118c0",
   "metadata": {},
   "outputs": [],
   "source": []
  }
 ],
 "metadata": {
  "kernelspec": {
   "display_name": "Python 3 (ipykernel)",
   "language": "python",
   "name": "python3"
  },
  "language_info": {
   "codemirror_mode": {
    "name": "ipython",
    "version": 3
   },
   "file_extension": ".py",
   "mimetype": "text/x-python",
   "name": "python",
   "nbconvert_exporter": "python",
   "pygments_lexer": "ipython3",
   "version": "3.9.7"
  }
 },
 "nbformat": 4,
 "nbformat_minor": 5
}
